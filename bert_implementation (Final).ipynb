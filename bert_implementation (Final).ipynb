{
 "cells": [
  {
   "cell_type": "code",
   "execution_count": 1,
   "id": "f4885999",
   "metadata": {},
   "outputs": [],
   "source": [
    "import tensorflow_hub as hub \n",
    "import tensorflow_text as text\n",
    "import pandas as pd"
   ]
  },
  {
   "cell_type": "code",
   "execution_count": 2,
   "id": "648bd0cb",
   "metadata": {},
   "outputs": [],
   "source": [
    "preprocess_url = \"https://tfhub.dev/tensorflow/bert_en_uncased_preprocess/3\"\n",
    "encoder_url = \"https://tfhub.dev/tensorflow/bert_en_uncased_L-12_H-768_A-12/4\""
   ]
  },
  {
   "cell_type": "code",
   "execution_count": 3,
   "id": "95f6c4dc",
   "metadata": {},
   "outputs": [
    {
     "name": "stdout",
     "output_type": "stream",
     "text": [
      "WARNING:tensorflow:Please fix your imports. Module tensorflow.python.training.tracking.data_structures has been moved to tensorflow.python.trackable.data_structures. The old module will be deleted in version 2.11.\n"
     ]
    }
   ],
   "source": [
    "bert_preprocess_model = hub.KerasLayer(preprocess_url)"
   ]
  },
  {
   "cell_type": "code",
   "execution_count": 4,
   "id": "ea775924",
   "metadata": {},
   "outputs": [
    {
     "data": {
      "text/html": [
       "<div>\n",
       "<style scoped>\n",
       "    .dataframe tbody tr th:only-of-type {\n",
       "        vertical-align: middle;\n",
       "    }\n",
       "\n",
       "    .dataframe tbody tr th {\n",
       "        vertical-align: top;\n",
       "    }\n",
       "\n",
       "    .dataframe thead th {\n",
       "        text-align: right;\n",
       "    }\n",
       "</style>\n",
       "<table border=\"1\" class=\"dataframe\">\n",
       "  <thead>\n",
       "    <tr style=\"text-align: right;\">\n",
       "      <th></th>\n",
       "      <th>Unnamed: 0</th>\n",
       "      <th>title</th>\n",
       "      <th>description</th>\n",
       "      <th>url</th>\n",
       "    </tr>\n",
       "  </thead>\n",
       "  <tbody>\n",
       "    <tr>\n",
       "      <th>0</th>\n",
       "      <td>0</td>\n",
       "      <td>The world is burning more coal than ever befor...</td>\n",
       "      <td>The global energy crisis caused by Russia's wa...</td>\n",
       "      <td>https://www.cnn.com/2022/12/16/world/coal-use-...</td>\n",
       "    </tr>\n",
       "    <tr>\n",
       "      <th>1</th>\n",
       "      <td>1</td>\n",
       "      <td>Tuesday’s top tech news: The law comes for Ban...</td>\n",
       "      <td>FTX’s co-founder Sam Bankman-Fried has been ar...</td>\n",
       "      <td>https://www.theverge.com/2022/12/13/23506980/d...</td>\n",
       "    </tr>\n",
       "    <tr>\n",
       "      <th>2</th>\n",
       "      <td>2</td>\n",
       "      <td>The year Russia turbocharged a global energy c...</td>\n",
       "      <td>For the energy industry, 2022 will be remember...</td>\n",
       "      <td>https://www.reuters.com/business/energy/year-r...</td>\n",
       "    </tr>\n",
       "    <tr>\n",
       "      <th>3</th>\n",
       "      <td>3</td>\n",
       "      <td>Energy crisis highlights need to broaden renew...</td>\n",
       "      <td>The global energy crisis sparked by war in Ukr...</td>\n",
       "      <td>https://www.reuters.com/business/energy/energy...</td>\n",
       "    </tr>\n",
       "    <tr>\n",
       "      <th>4</th>\n",
       "      <td>4</td>\n",
       "      <td>Zimbabwe power outages hit businesses and fami...</td>\n",
       "      <td>Zimbabwe is only generating one third of its e...</td>\n",
       "      <td>https://www.bbc.co.uk/news/world-africa-63934919</td>\n",
       "    </tr>\n",
       "  </tbody>\n",
       "</table>\n",
       "</div>"
      ],
      "text/plain": [
       "   Unnamed: 0                                              title  \\\n",
       "0           0  The world is burning more coal than ever befor...   \n",
       "1           1  Tuesday’s top tech news: The law comes for Ban...   \n",
       "2           2  The year Russia turbocharged a global energy c...   \n",
       "3           3  Energy crisis highlights need to broaden renew...   \n",
       "4           4  Zimbabwe power outages hit businesses and fami...   \n",
       "\n",
       "                                         description  \\\n",
       "0  The global energy crisis caused by Russia's wa...   \n",
       "1  FTX’s co-founder Sam Bankman-Fried has been ar...   \n",
       "2  For the energy industry, 2022 will be remember...   \n",
       "3  The global energy crisis sparked by war in Ukr...   \n",
       "4  Zimbabwe is only generating one third of its e...   \n",
       "\n",
       "                                                 url  \n",
       "0  https://www.cnn.com/2022/12/16/world/coal-use-...  \n",
       "1  https://www.theverge.com/2022/12/13/23506980/d...  \n",
       "2  https://www.reuters.com/business/energy/year-r...  \n",
       "3  https://www.reuters.com/business/energy/energy...  \n",
       "4   https://www.bbc.co.uk/news/world-africa-63934919  "
      ]
     },
     "execution_count": 4,
     "metadata": {},
     "output_type": "execute_result"
    }
   ],
   "source": [
    "import pandas as pd\n",
    "data = pd.read_csv('C:/Users/hp/Downloads/Dataset_v1.csv')\n",
    "data.head()"
   ]
  },
  {
   "cell_type": "code",
   "execution_count": 5,
   "id": "37c7eb64",
   "metadata": {},
   "outputs": [],
   "source": [
    "a = data[:100]['title']"
   ]
  },
  {
   "cell_type": "code",
   "execution_count": 6,
   "id": "af005ab0",
   "metadata": {},
   "outputs": [
    {
     "data": {
      "text/plain": [
       "['The world is burning more coal than ever before, new report shows',\n",
       " 'Tuesday’s top tech news: The law comes for Bankman-Fried',\n",
       " 'The year Russia turbocharged a global energy crisis - Reuters',\n",
       " \"Energy crisis highlights need to broaden renewables' supply chain - Reuters\",\n",
       " 'Zimbabwe power outages hit businesses and families',\n",
       " 'EU countries make final push for gas price cap deal this year - Reuters',\n",
       " \"Why Dutch 'bike banks' are a game changer for kids\",\n",
       " 'Japan turns back to nuclear power to tackle energy crisis - Reuters',\n",
       " 'Germany plans record debt issuance in 2023 as energy crisis bites - Reuters',\n",
       " 'Cuba says its allies have pledged help to end its economic crisis - Reuters Canada',\n",
       " 'Column: Europe should thank mild autumn for averting gas crisis ... - Reuters',\n",
       " 'Ukraine Secures Funding for an Additional 10,000 Starlink Terminals',\n",
       " 'German economy to grow slightly in 2023 - IfW forecast - Reuters',\n",
       " \"EU gas price cap positive for the market, Poland's PKN Orlen says - Reuters\",\n",
       " \"Lyon's Festival of Lights goes energy lite to save power - Reuters\",\n",
       " 'German businesses expect only mild recession as disruptions ease - Reuters',\n",
       " \"Macron says it's absurd to fear power outage chaos this winter - Reuters\",\n",
       " 'China should end its anti-COVID lockdowns, the head of the IMF says',\n",
       " 'A hot topic in an energy crisis: how efficiently are you using your boiler?',\n",
       " 'Energy bills: how you can get help in the UK cost of living crisis',\n",
       " 'Snow warnings as UK cold snap prompts fears of winter energy crisis',\n",
       " 'Global renewables capacity set to double over next five years, says IEA - Reuters',\n",
       " \"Europe's south offers a warm welcome to energy migrants - Reuters\",\n",
       " 'South Africa turns to solar to help stop power cuts',\n",
       " 'Welders wanted: France steps up recruitment drive as nuclear crisis deepens - Reuters',\n",
       " 'Tokyo will require new homes built from 2025 to have solar panels',\n",
       " 'Ukraine war: Moldova braces for blackouts',\n",
       " 'Energy efficiency rate accelerates amid high prices - IEA - Reuters',\n",
       " 'UK risks sleepwalking into food supply crisis, says farmers’ union',\n",
       " 'Octopus Energy and Shell sign Dogger Bank offshore wind power deal - Reuters',\n",
       " 'Column: European power firms at risk as U.S. jumps on bioenergy bandwagon: Maguire - Reuters',\n",
       " 'Reliance on hi-tech solutions to climate crisis perpetuates racism, says UN official',\n",
       " 'Breakingviews - East-West battleground will shift to metals - Reuters',\n",
       " 'EDF-sponsored welders school aims to plug nuclear sector gaps - Reuters',\n",
       " 'ESG Watch: Despite setbacks, green finance ends 2022 in good ... - Reuters',\n",
       " 'EU unity at stake as countries try to break gas price cap impasse - Reuters',\n",
       " 'How the lights went out on Bulb – and the wrangle over its future',\n",
       " 'The DWP has become Britain’s biggest debt collector. Surely during an energy crisis it should press pause | Gordon Brown',\n",
       " \"Eskom's outgoing CEO says lack of political support made position ... - Reuters\",\n",
       " \"Croatia's coast turns to solar in bid to become energy-sustainable - Reuters.com\",\n",
       " 'Portugal increases support to help with rising energy bills - Reuters',\n",
       " \"Zimbabwe's night markets cushion crisis-weary citizens from inflation - Reuters\",\n",
       " \"'Germany's Half-a-Trillion Dollar Energy Bazooka May Not Be Enough'\",\n",
       " 'NATO ministers focus on Russia regional destabilisation concerns - Reuters.com',\n",
       " 'Russia discusses debt, energy stability with Venezuela - Reuters',\n",
       " \"Italy's Enel signs deal with SACE on deferred energy bill payments - Reuters\",\n",
       " 'Transformative Businesses Are Born in Tough Times',\n",
       " 'Ofgem is taking a risk with new approach to regulating energy firms | Nils Pratley',\n",
       " 'Thousands protest in Brussels over cost-of-living crisis, hitting public ... - Reuters',\n",
       " 'Australia’s Soft Plastic Recycling Debacle',\n",
       " 'Europe shifts focus to avoiding energy shortage next year',\n",
       " 'Factbox: Windfall tax mechanisms on energy companies across Europe - Reuters',\n",
       " \"India makes inroads into Sri Lanka under China's long shadow - Reuters.com\",\n",
       " '£200,000 raised by Guardian and Observer readers five days into appeal',\n",
       " 'Ministers made a choice about this economic crisis – to make working people pay for it | Sharon Graham',\n",
       " 'The fixed-price shopping basket: Greece’s answer to cost of living crisis',\n",
       " 'Shape-shifting, energy and youth: how Scaloni transformed Argentina',\n",
       " 'EU starts crackdown on commodity firms using derivatives markets - Reuters',\n",
       " 'Hunt to urge banks to aid mortgage borrowers amid cost-of-living crisis',\n",
       " 'UK fresh food prices climb record 14.3% in November – BRC - Reuters',\n",
       " 'Citizens Advice says record number sought energy help in November',\n",
       " \"Australia's volatile power market killing competition - watchdog - Reuters\",\n",
       " 'Europe needs to put gas in its transition plan, Eni CEO says - Reuters',\n",
       " 'UK energy suppliers face 1.9 bln stg debt as households struggle with bills-report - Reuters',\n",
       " 'Thousands of British Gas customers still waiting for help as cold sets in',\n",
       " 'Morocco change the mood for African football with exploits in Qatar - Reuters',\n",
       " \"Germany's 2022 renewable power production rises but still behind 2030 target - Reuters\",\n",
       " 'EU considers lower gas price cap in hunt for Monday deal - Reuters',\n",
       " 'Shell’s investment in renewables is wonderfully worrisome',\n",
       " 'Package holiday demand dips as UK cost of living crisis hits budgets',\n",
       " 'Tokyo makes solar panels mandatory for new homes built after 2025 - Reuters',\n",
       " 'Climate goal of 1.5C is ‘gasping for breath’, says UN head',\n",
       " 'Take a ride down memory lane in the Pontiac Fiero',\n",
       " 'Retailer Currys cuts annual profit outlook after half-year loss - Reuters',\n",
       " 'Pub group Mitchells & Butlers flags mounting cost pressures after profit jump - Reuters UK',\n",
       " 'India to step up gas imports to address summer power demand - Reuters India',\n",
       " 'Woodside ships first Australian LNG cargo direct to Europe - Reuters',\n",
       " 'HSBC to stop funding new oil and gas fields - Reuters',\n",
       " 'Europe shifts focus to avoiding energy shortage next year',\n",
       " 'UK hospices warn of bed closures and staff cuts as energy bills soar',\n",
       " 'Ghana expects $3 bln IMF loan approval early in 2023 - Reuters',\n",
       " 'Memo to Just Stop Oil and everyone risking all to save the planet: we need a rethink | Feyzi Ismail',\n",
       " '‘It’s just not tenable’: cost of living crisis hits sustainability sector',\n",
       " 'Spain announces $10.6 bln package to ease inflation pain in 2023 - Reuters.com',\n",
       " 'Currys says more customers using credit in cost of living crunch',\n",
       " 'Norwegian asset manager Storebrand toughens stance on biodiversity - Reuters',\n",
       " 'The Guardian view on biodiversity collapse: the crisis humanity can no longer ignore | Editorial',\n",
       " 'Nearly 2m UK households behind on bill payments as Christmas approaches',\n",
       " \"Tesla stock dive sends market cap of the green energy darling below oil giant Exxon Mobil's\",\n",
       " 'Slovak government at risk of collapse as rivals call no-confidence vote - Reuters',\n",
       " 'U.S. climate envoy Kerry hails holding COP28 conference in OPEC member UAE - Reuters',\n",
       " 'Unheard voices of the UK cost of living crisis – a photo essay',\n",
       " 'Syrians brace for long, cold winter as fuel crisis bites - Reuters',\n",
       " 'Should countries try to do everything themselves?',\n",
       " '‘It gives us hope’: how baby banks are helping parents in the cost of living crisis',\n",
       " 'Russia-Ukraine war live: Nato foreign ministers meet in Romania; US to announce ‘substantial’ aid',\n",
       " \"Africa's food crisis is the biggest yet – five reasons why - Reuters\",\n",
       " 'The big idea: how keeping warm wards off loneliness',\n",
       " 'BT awards tens of thousands of staff £1,500 cost of living pay rise',\n",
       " 'Pick your Christmas tree carefully and avoid luxury food: festive saving tips']"
      ]
     },
     "execution_count": 6,
     "metadata": {},
     "output_type": "execute_result"
    }
   ],
   "source": [
    "a = a.to_list()\n",
    "a"
   ]
  },
  {
   "cell_type": "code",
   "execution_count": 7,
   "id": "2ff18e2e",
   "metadata": {
    "scrolled": true
   },
   "outputs": [],
   "source": [
    "text_preprocessed = bert_preprocess_model(a) #preprocess for text embedding which is going to be used in transformer encoding,\n",
    "bert_model = hub.KerasLayer(encoder_url)  #The encoder's outputs are the pooled_output to represents each input sequence as a whole\n",
    "bert_results = bert_model(text_preprocessed)\n",
    "#plot_similarity(bert_results['pooled_output'],a)"
   ]
  },
  {
   "cell_type": "code",
   "execution_count": 8,
   "id": "1235dccd",
   "metadata": {},
   "outputs": [
    {
     "data": {
      "text/plain": [
       "TensorShape([100, 768])"
      ]
     },
     "execution_count": 8,
     "metadata": {},
     "output_type": "execute_result"
    }
   ],
   "source": [
    "a = bert_results['pooled_output'] #768 dimension embedding\n",
    "a.shape"
   ]
  },
  {
   "cell_type": "code",
   "execution_count": 9,
   "id": "9a9ba846",
   "metadata": {},
   "outputs": [],
   "source": [
    "from sklearn.cluster import KMeans\n",
    "import numpy as np\n",
    "\n",
    "kmeans = KMeans(n_clusters=25, random_state=0).fit(a)"
   ]
  },
  {
   "cell_type": "code",
   "execution_count": 10,
   "id": "dc4d4976",
   "metadata": {},
   "outputs": [],
   "source": [
    "# Collecting all the cluster values\n",
    "data = kmeans.predict(a)"
   ]
  },
  {
   "cell_type": "code",
   "execution_count": 11,
   "id": "77890233",
   "metadata": {},
   "outputs": [],
   "source": [
    " cluster_labels = kmeans.labels_"
   ]
  },
  {
   "cell_type": "code",
   "execution_count": 12,
   "id": "5034f023",
   "metadata": {},
   "outputs": [
    {
     "data": {
      "text/plain": [
       "array([ 0,  1,  4, 10, 12, 10,  3, 10,  6,  4,  8,  0,  4,  9,  6,  9,  8,\n",
       "        6,  2,  3,  1,  9,  4, 13,  6, 20, 23, 10,  3, 10,  8,  3,  8, 24,\n",
       "        6,  4,  5,  6,  6,  4,  9,  4, 11,  6,  6,  4, 14, 23, 23,  5, 16,\n",
       "        6, 18, 23,  7,  1,  3, 10, 16, 21,  7, 19,  9, 10, 14,  3, 10,  6,\n",
       "        1,  0,  4,  2, 15,  9,  3,  6, 24,  9, 16,  4,  4, 17,  7,  6, 21,\n",
       "       19,  1, 14,  1, 23,  6,  5,  4,  3,  7, 16,  1, 22, 10,  0])"
      ]
     },
     "execution_count": 12,
     "metadata": {},
     "output_type": "execute_result"
    }
   ],
   "source": [
    "data"
   ]
  },
  {
   "cell_type": "code",
   "execution_count": 13,
   "id": "08d06247",
   "metadata": {},
   "outputs": [
    {
     "data": {
      "text/plain": [
       "[array([8]), array([11]), array([5]), array([19])]"
      ]
     },
     "execution_count": 13,
     "metadata": {},
     "output_type": "execute_result"
    }
   ],
   "source": [
    "# User name: Karan\n",
    "# Past history\n",
    "history = [10, 42, 36, 85]\n",
    "\n",
    "# Step1\n",
    "# finding the clusters were this news ids belongs to.\n",
    "cluster_id = []\n",
    "\n",
    "for id in history:\n",
    "    cluster_id.append(kmeans.predict([a[id]]))\n",
    "cluster_id"
   ]
  },
  {
   "cell_type": "code",
   "execution_count": 25,
   "id": "75b3e06a",
   "metadata": {},
   "outputs": [
    {
     "name": "stdout",
     "output_type": "stream",
     "text": [
      "Cluster id:  [8] Posts under this cluster:  [10, 16, 30, 32]\n",
      "Cluster id:  [11] Posts under this cluster:  [42]\n",
      "Cluster id:  [5] Posts under this cluster:  [36, 49, 91]\n",
      "Cluster id:  [19] Posts under this cluster:  [61, 85]\n"
     ]
    }
   ],
   "source": [
    "# Step 2\n",
    "# We need to collect all the newes comes under the respective clusters\n",
    "\n",
    "for id in cluster_id:\n",
    "    ls = []\n",
    "    for i in range(100):\n",
    "        if data[i] == id:\n",
    "            ls.append(i)\n",
    "    print(\"Cluster id: \", id, \"Posts under this cluster: \", ls)"
   ]
  },
  {
   "cell_type": "code",
   "execution_count": 26,
   "id": "db1780e3",
   "metadata": {},
   "outputs": [
    {
     "data": {
      "text/plain": [
       "'\\nJust remove the news in his history \\nCluster id:  [8] Posts under this cluster:[ 16, 30, 32]\\nCluster id:  [11] Posts under this cluster:  [42]\\nCluster id:  [5] Posts under this cluster:  [49, 91]\\nCluster id:  [19] Posts under this cluster:  [61]      '"
      ]
     },
     "execution_count": 26,
     "metadata": {},
     "output_type": "execute_result"
    }
   ],
   "source": [
    "# Step 3\n",
    "# The recommended news for user Karan are \n",
    "'''\n",
    "Just remove the news in his history \n",
    "Cluster id:  [8] Posts under this cluster:[ 16, 30, 32]\n",
    "Cluster id:  [11] Posts under this cluster:  [42]\n",
    "Cluster id:  [5] Posts under this cluster:  [49, 91]\n",
    "Cluster id:  [19] Posts under this cluster:  [61]      '''        \n",
    "\n",
    "# for rec in cluster_id:\n",
    "#     if\n",
    "#     print(\"Recommended articles are :\", rec)\n",
    "    \n"
   ]
  },
  {
   "cell_type": "code",
   "execution_count": null,
   "id": "5b13a04d",
   "metadata": {},
   "outputs": [],
   "source": [
    "    "
   ]
  },
  {
   "cell_type": "code",
   "execution_count": null,
   "id": "812c20d3",
   "metadata": {},
   "outputs": [],
   "source": []
  },
  {
   "cell_type": "code",
   "execution_count": null,
   "id": "9202a07a",
   "metadata": {},
   "outputs": [],
   "source": []
  },
  {
   "cell_type": "code",
   "execution_count": null,
   "id": "00cc42ec",
   "metadata": {},
   "outputs": [],
   "source": []
  },
  {
   "cell_type": "code",
   "execution_count": null,
   "id": "0549c167",
   "metadata": {},
   "outputs": [],
   "source": []
  },
  {
   "cell_type": "code",
   "execution_count": null,
   "id": "b6075fab",
   "metadata": {},
   "outputs": [],
   "source": [
    "kmeans.cluster_centers_\n"
   ]
  },
  {
   "cell_type": "code",
   "execution_count": null,
   "id": "8158bfc1",
   "metadata": {},
   "outputs": [],
   "source": [
    "kmeans.transform([b])"
   ]
  },
  {
   "cell_type": "code",
   "execution_count": null,
   "id": "927f5e18",
   "metadata": {},
   "outputs": [],
   "source": [
    "kmeans."
   ]
  },
  {
   "cell_type": "code",
   "execution_count": null,
   "id": "ff1044cd",
   "metadata": {},
   "outputs": [],
   "source": []
  }
 ],
 "metadata": {
  "kernelspec": {
   "display_name": "Python 3 (ipykernel)",
   "language": "python",
   "name": "python3"
  },
  "language_info": {
   "codemirror_mode": {
    "name": "ipython",
    "version": 3
   },
   "file_extension": ".py",
   "mimetype": "text/x-python",
   "name": "python",
   "nbconvert_exporter": "python",
   "pygments_lexer": "ipython3",
   "version": "3.10.5"
  }
 },
 "nbformat": 4,
 "nbformat_minor": 5
}
